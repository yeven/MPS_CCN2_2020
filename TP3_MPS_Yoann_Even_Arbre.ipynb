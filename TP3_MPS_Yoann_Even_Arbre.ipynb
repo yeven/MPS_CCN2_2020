{
 "cells": [
  {
   "cell_type": "code",
   "execution_count": 1,
   "metadata": {},
   "outputs": [
    {
     "data": {
      "application/vnd.jupyter.widget-view+json": {
       "model_id": "ef032a9b188840b8826798dcbdf43c37",
       "version_major": 2,
       "version_minor": 0
      },
      "text/plain": [
       "Turtle()"
      ]
     },
     "metadata": {},
     "output_type": "display_data"
    }
   ],
   "source": [
    "from mobilechelonian import Turtle\n",
    "t = Turtle()\n",
    "t.speed(8)\n",
    "t.penup()\n",
    "t.pencolor(\"red\")\n",
    "t.left(90)\n",
    "t.backward(150)\n",
    "t.pendown()\n",
    "def tree(size):\n",
    "    if(size<50):\n",
    "        t.forward(size)\n",
    "        t.backward(size)\n",
    "    else:\n",
    "        t.forward(size/3)\n",
    "        t.left(30)\n",
    "        tree(size*(2/3))\n",
    "        t.right(30)\n",
    "        t.forward(size/6)\n",
    "        t.right(25)\n",
    "        tree(size/2)\n",
    "        t.left(25)\n",
    "        t.forward(size/3)\n",
    "        t.right(25)\n",
    "        tree(size/2)\n",
    "        t.left(25)\n",
    "        t.forward(size/6)\n",
    "        t.backward(size)\n",
    "\n",
    "tree(150)"
   ]
  },
  {
   "cell_type": "code",
   "execution_count": null,
   "metadata": {},
   "outputs": [],
   "source": []
  }
 ],
 "metadata": {
  "kernelspec": {
   "display_name": "Python 3",
   "language": "python",
   "name": "python3"
  },
  "language_info": {
   "codemirror_mode": {
    "name": "ipython",
    "version": 3
   },
   "file_extension": ".py",
   "mimetype": "text/x-python",
   "name": "python",
   "nbconvert_exporter": "python",
   "pygments_lexer": "ipython3",
   "version": "3.7.4"
  }
 },
 "nbformat": 4,
 "nbformat_minor": 2
}
