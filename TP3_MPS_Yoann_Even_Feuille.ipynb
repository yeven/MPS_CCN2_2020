{
 "cells": [
  {
   "cell_type": "code",
   "execution_count": 2,
   "metadata": {},
   "outputs": [
    {
     "data": {
      "application/vnd.jupyter.widget-view+json": {
       "model_id": "37f8b8d846484bf0ad4d0728ebf323bc",
       "version_major": 2,
       "version_minor": 0
      },
      "text/plain": [
       "Turtle()"
      ]
     },
     "metadata": {},
     "output_type": "display_data"
    }
   ],
   "source": [
    "from mobilechelonian import Turtle\n",
    "t = Turtle()\n",
    "t.speed(10)\n",
    "t.penup()\n",
    "t.pencolor(\"red\")\n",
    "t.left(90)\n",
    "t.backward(150)\n",
    "t.pendown()\n",
    "def fern(size, sign):\n",
    "    if(size>=5):\n",
    "        t.forward(size)\n",
    "        t.right(70*sign)\n",
    "        fern((size*0.5), (sign*(-1)))\n",
    "        t.left(70*sign)\n",
    "        t.forward(size)\n",
    "        t.left(70*sign)\n",
    "        fern((size*0.5), sign)\n",
    "        t.right(70*sign)\n",
    "        t.right(7*sign)\n",
    "        fern((size+(-1)), sign)\n",
    "        t.left(7*sign)\n",
    "        t.backward(size*2)\n",
    "\n",
    "fern(25,1)"
   ]
  },
  {
   "cell_type": "code",
   "execution_count": null,
   "metadata": {},
   "outputs": [],
   "source": []
  }
 ],
 "metadata": {
  "kernelspec": {
   "display_name": "Python 3",
   "language": "python",
   "name": "python3"
  },
  "language_info": {
   "codemirror_mode": {
    "name": "ipython",
    "version": 3
   },
   "file_extension": ".py",
   "mimetype": "text/x-python",
   "name": "python",
   "nbconvert_exporter": "python",
   "pygments_lexer": "ipython3",
   "version": "3.7.4"
  }
 },
 "nbformat": 4,
 "nbformat_minor": 2
}
